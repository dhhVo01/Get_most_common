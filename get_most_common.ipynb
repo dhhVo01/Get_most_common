{
  "nbformat": 4,
  "nbformat_minor": 0,
  "metadata": {
    "colab": {
      "provenance": [],
      "collapsed_sections": []
    },
    "kernelspec": {
      "name": "python3",
      "display_name": "Python 3"
    },
    "language_info": {
      "name": "python"
    }
  },
  "cells": [
    {
      "cell_type": "markdown",
      "source": [
        "#Get most common"
      ],
      "metadata": {
        "id": "0ELysg5BAm7u"
      }
    },
    {
      "cell_type": "code",
      "execution_count": 1,
      "metadata": {
        "id": "TDTscuMCpoKk"
      },
      "outputs": [],
      "source": [
        "import pandas as pd\n",
        "import numpy as np\n",
        "import statistics\n",
        "from statistics import mode\n",
        " \n",
        "url = \"/content/divide _data.xlsx\" # máy lưu file ở đâu thì set url ở đó\n",
        "sheets = [\"Khánh\", \"Vĩ\", \"Đăng\", \"Nhi\"] # lấy 4 sheet nè  \n",
        "n_rows = 2000 # lấy 2000 hàng\n",
        "use_cols = \"A:G\" # lấy cột từ A đến GG\n",
        "df = pd.read_excel(url, sheet_name = sheets, nrows = n_rows, usecols = use_cols)"
      ]
    },
    {
      "cell_type": "code",
      "source": [
        "cols = df[sheets[0]].columns"
      ],
      "metadata": {
        "id": "X4iHZ_QbzMkW"
      },
      "execution_count": 2,
      "outputs": []
    },
    {
      "cell_type": "code",
      "source": [
        "for sheet in sheets:\n",
        "    df[sheet] = df[sheet].replace(to_replace = np.nan, value =0) # những nhãn chưa được gán sẽ mặc định bằng 0"
      ],
      "metadata": {
        "id": "8EAmgoXd0bTL"
      },
      "execution_count": 3,
      "outputs": []
    },
    {
      "cell_type": "code",
      "source": [
        "def most_common(List):\n",
        "    return(mode(List))"
      ],
      "metadata": {
        "id": "-nTnXq9u2fPa"
      },
      "execution_count": 8,
      "outputs": []
    },
    {
      "cell_type": "code",
      "source": [
        "def create_col_most_common(df, col, n_rows, sheets):\n",
        "    colResult = []\n",
        "    colLabelDetails = []\n",
        "    for i in range(n_rows):\n",
        "        label_details = [sheet + \": \" + str(df[sheet][col][i]) for sheet in sheets]\n",
        "        colLabelDetails.append(label_details)\n",
        "        try:\n",
        "          tmp = most_common([int(df[sheet][col][i]) for sheet in sheets])\n",
        "        except:\n",
        "          tmp = set([df[sheet][col][i] for sheet in sheets]) # nếu không xác định được nhãn chung thì gắn các nhãn xuất hiện nhiều nhất\n",
        "        colResult.append(tmp)\n",
        "        #print(\"col:\", col,\"index:\",i-2 , [int(df[sheet][col][i]) for sheet in sheets], \"common:\", tmp)\n",
        "    return colResult, colLabelDetails"
      ],
      "metadata": {
        "id": "2YyVQOjj3dXf"
      },
      "execution_count": 74,
      "outputs": []
    },
    {
      "cell_type": "code",
      "source": [
        "arr = []\n",
        "colResult = []\n",
        "colLabelDetails = []\n",
        "arr.append([text for text in df[sheets[0]][cols[0]]])\n",
        "for col in cols[1:]:\n",
        "    colResult, colLabelDetails = create_col_most_common(df, col, n_rows, sheets)\n",
        "    arr.append(colResult)\n",
        "    arr.append(colLabelDetails)"
      ],
      "metadata": {
        "id": "Ng08rNur1mjy"
      },
      "execution_count": 75,
      "outputs": []
    },
    {
      "cell_type": "code",
      "source": [
        "columns = [col for col in cols for i in range(2)][1:]\n",
        "pd.DataFrame(arr, index = columns).T.to_excel(\"divide_most_common.xlsx\")"
      ],
      "metadata": {
        "id": "Q4Cq0l8J8Fvh"
      },
      "execution_count": 76,
      "outputs": []
    }
  ]
}